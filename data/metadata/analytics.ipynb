{
 "cells": [
  {
   "cell_type": "markdown",
   "metadata": {},
   "source": [
    "# Data Analytics for the Corpus\n",
    "\n",
    "## Author: Amittai Siavava"
   ]
  },
  {
   "cell_type": "markdown",
   "metadata": {},
   "source": [
    "### Load the CSV metadata"
   ]
  },
  {
   "cell_type": "code",
   "execution_count": 2,
   "metadata": {},
   "outputs": [],
   "source": [
    "import numpy as np\n",
    "import pandas as pd\n",
    "import matplotlib.pyplot as plt\n",
    "from collections import Counter"
   ]
  },
  {
   "cell_type": "code",
   "execution_count": 5,
   "metadata": {},
   "outputs": [
    {
     "name": "stdout",
     "output_type": "stream",
     "text": [
      "[1951, 1953, 1956, 1957, 1958, 1959, 1960, 1961, 1962, 1963, 1964, 1965, 1966, 1967, 1968, 1969, 1970, 1971, 1972, 1973, 1974, 1975, 1976, 1978, 1979, 1980, 1981, 1982, 1984, 1985, 1986, 1987, 1988, 1989, 1990, 1991, 1992, 1993, 1994, 1995, 1996, 1997, 1998, 1999, 2000, 2001, 2002, 2003, 2004, 2005, 2006, 2007, 2008, 2009, 2010, 2011, 2012, 2013, 2014, 2015, 2016, 2017, 2018, 2019, 2020, 2021, 2022]\n"
     ]
    },
    {
     "data": {
      "image/png": "[encoded data removed]",
      "text/plain": [
       "<Figure size 432x288 with 1 Axes>"
      ]
     },
     "metadata": {
      "needs_background": "light"
     },
     "output_type": "display_data"
    },
    {
     "name": "stdout",
     "output_type": "stream",
     "text": [
      "[1950 = 3] [1951 = 1] [1952 = 0] [1953 = 3] [1954 = 0] [1955 = 0] [1956 = 2] [1957 = 2] [1958 = 5] [1959 = 3] [1960 = 3] [1961 = 1] [1962 = 3] [1963 = 1] [1964 = 1] [1965 = 2] [1966 = 1] [1967 = 1] [1968 = 3] [1969 = 1] [1970 = 7] [1971 = 3] [1972 = 3] [1973 = 2] [1974 = 2] [1975 = 5] [1976 = 1] [1977 = 0] [1978 = 4] [1979 = 1] [1980 = 2] [1981 = 4] [1982 = 4] [1983 = 0] [1984 = 3] [1985 = 1] [1986 = 5] [1987 = 1] [1988 = 8] [1989 = 4] [1990 = 8] [1991 = 5] [1992 = 1] [1993 = 5] [1994 = 4] [1995 = 10] [1996 = 8] [1997 = 9] [1998 = 9] [1999 = 4] [2000 = 13] [2001 = 11] [2002 = 5] [2003 = 11] [2004 = 13] [2005 = 9] [2006 = 18] [2007 = 9] [2008 = 19] [2009 = 23] [2010 = 367] [2011 = 14] [2012 = 37] [2013 = 32] [2014 = 40] [2015 = 68] [2016 = 99] [2017 = 156] [2018 = 214] [2019 = 192] [2020 = 220] [2021 = 532] [2022 = 2020] "
     ]
    }
   ],
   "source": [
    "df = pd.read_csv(\"index.tsv\", sep=\"\\t\")\n",
    "df.head()\n",
    "\n",
    "data = np.array(df)\n",
    "\n",
    "years = data[:, 1]\n",
    "\n",
    "for i in range(len(years)):\n",
    "  try:\n",
    "    years[i] = int(years[i])\n",
    "  except ValueError:\n",
    "    continue\n",
    "\n",
    "cleaned_years = [year for year in years if isinstance(year, int) ]\n",
    "counters = Counter(cleaned_years)\n",
    "unique_years = [x for x in sorted(list(counters.keys())) if x > 1950] \n",
    "print(unique_years)\n",
    "counts = [counters[year] for year in unique_years]\n",
    "plt.bar(unique_years, counts, label=\"Total\")\n",
    "plt.show()\n",
    "with open(\"counts.csv\", \"w\") as f:\n",
    "  for year in range(1950, 2023):\n",
    "    count = counters.get(year, 0)\n",
    "    print(f\"[{year} = {count}]\", end=\" \")\n",
    "    f.write(f\"{year},{count}\\n\")"
   ]
  },
  {
   "cell_type": "code",
   "execution_count": null,
   "metadata": {},
   "outputs": [],
   "source": []
  }
 ],
 "metadata": {
  "interpreter": {
   "hash": "607b7d84c7d8e26dbbffb4014e40424fe2faf80a09a85d717e93e42c2773dc40"
  },
  "kernelspec": {
   "display_name": "Python 3.10.4 ('ml')",
   "language": "python",
   "name": "python3"
  },
  "language_info": {
   "codemirror_mode": {
    "name": "ipython",
    "version": 3
   },
   "file_extension": ".py",
   "mimetype": "text/x-python",
   "name": "python",
   "nbconvert_exporter": "python",
   "pygments_lexer": "ipython3",
   "version": "3.10.4"
  },
  "orig_nbformat": 4
 },
 "nbformat": 4,
 "nbformat_minor": 2
}
